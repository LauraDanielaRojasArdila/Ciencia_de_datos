{
  "nbformat": 4,
  "nbformat_minor": 0,
  "metadata": {
    "colab": {
      "provenance": []
    },
    "kernelspec": {
      "name": "python3",
      "display_name": "Python 3"
    },
    "language_info": {
      "name": "python"
    }
  },
  "cells": [
    {
      "cell_type": "code",
      "source": [
        "import cmath\n",
        "import math\n",
        "from functools import reduce"
      ],
      "metadata": {
        "id": "YQ7d5I8KnV4X"
      },
      "execution_count": null,
      "outputs": []
    },
    {
      "cell_type": "code",
      "source": [
        "# Ejercicio 1: Área de un triángulo\n",
        "\n",
        "area = lambda b, h: b * h / 2\n",
        "print(f\"Ejercicio 1: Área de un triángulo -> {area(5, 10)}\")"
      ],
      "metadata": {
        "id": "AwqHc_2InX6T"
      },
      "execution_count": null,
      "outputs": []
    },
    {
      "cell_type": "code",
      "source": [
        "# Ejercicio 2: Conversión de temperatura\n",
        "\n",
        "celsius_a_fahrenheit = lambda c: c * 1.8 + 32\n",
        "print(f\"Ejercicio 2: 36°C en Fahrenheit -> {celsius_a_fahrenheit(36)}\")"
      ],
      "metadata": {
        "id": "0Q6cVFEunZAG"
      },
      "execution_count": null,
      "outputs": []
    },
    {
      "cell_type": "code",
      "source": [
        "# Ejercicio 3: Promedio de tres números\n",
        "\n",
        "promedio = lambda *nums: sum(nums) / len(nums)\n",
        "print(f\"Ejercicio 3: Promedio de (5, 5, 5) -> {promedio(5, 5, 5)}\")\n"
      ],
      "metadata": {
        "id": "Su6fLe5snZ0o"
      },
      "execution_count": null,
      "outputs": []
    },
    {
      "cell_type": "code",
      "source": [
        "# Ejercicio 4: Perímetro y área de un círculo\n",
        "\n",
        "circulo = lambda r: (round(2 * math.pi * r, 2), round(math.pi * r**2, 2))\n",
        "print(f\"Ejercicio 4: Perímetro y área de un círculo -> {circulo(2)}\")"
      ],
      "metadata": {
        "id": "cjvTyKdPnbH6"
      },
      "execution_count": null,
      "outputs": []
    },
    {
      "cell_type": "code",
      "source": [
        "# Ejercicio 5: Ecuación cuadrática\n",
        "\n",
        "discriminante = lambda a, b, c: b**2 - 4*a*c\n",
        "raices = lambda a, b, d: [(-b + cmath.sqrt(d)) / (2 * a), (-b - cmath.sqrt(d)) / (2 * a)]\n",
        "a, b, c = -6, 6, 7\n",
        "D = discriminante(a, b, c)\n",
        "print(f\"Ejercicio 5: Raíces de la ecuación -> {raices(a, b, D)}\")\n"
      ],
      "metadata": {
        "id": "cAyXdkWVncBi"
      },
      "execution_count": null,
      "outputs": []
    },
    {
      "cell_type": "code",
      "source": [
        "# Ejercicio 6: Número par o impar\n",
        "\n",
        "par_impar = lambda n: \"Par\" if n % 2 == 0 else \"Impar\"\n",
        "print(f\"Ejercicio 6: El número 7 es -> {par_impar(7)}\")"
      ],
      "metadata": {
        "id": "wSsMoiMAnc4B"
      },
      "execution_count": null,
      "outputs": []
    },
    {
      "cell_type": "code",
      "source": [
        "# Ejercicio 7: Año bisiesto\n",
        "\n",
        "bisiesto = lambda y: y % 4 == 0 and (y % 100 != 0 or y % 400 == 0)\n",
        "print(f\"Ejercicio 7: ¿2024 es bisiesto? {'Sí' if bisiesto(2024) else 'No'}\")"
      ],
      "metadata": {
        "id": "NSykCXI-nevB"
      },
      "execution_count": null,
      "outputs": []
    },
    {
      "cell_type": "code",
      "source": [
        "# Ejercicio 8: Determinar si una persona pertenece a la tercera edad\n",
        "\n",
        "tercera_edad = lambda edad: edad >= 70\n",
        "\n",
        "# Solicitar datos al usuario\n",
        "nombre = input(\"Ingrese su nombre: \")\n",
        "edad = int(input(\"Ingrese su edad: \"))\n",
        "\n",
        "# Verificación e impresión del resultado\n",
        "print(f\"\\nHola {nombre}, \", end=\"\")\n",
        "print(\"tienes prioridad en la fila.\" if tercera_edad(edad) else \"no tienes prioridad en la fila.\")"
      ],
      "metadata": {
        "id": "VFrSzziWngN4"
      },
      "execution_count": null,
      "outputs": []
    },
    {
      "cell_type": "code",
      "source": [
        "# Ejercicio 9: Mayor de tres números\n",
        "\n",
        "mayor = lambda *nums: max(nums)\n",
        "print(f\"Ejercicio 8: Mayor de (5, 10, 3) -> {mayor(5, 10, 3)}\")"
      ],
      "metadata": {
        "id": "QhZ5ekSxnh5S"
      },
      "execution_count": null,
      "outputs": []
    },
    {
      "cell_type": "code",
      "source": [
        "# Ejercicio 10: Clasificación de triángulo\n",
        "\n",
        "triangulo = lambda a, b, c: \"Equilátero\" if a == b == c else \"Isósceles\" if a == b or b == c or a == c else \"Escaleno\"\n",
        "print(f\"Ejercicio 9: Triángulo (3, 4, 4) -> {triangulo(3, 4, 4)}\")"
      ],
      "metadata": {
        "id": "IT9rxbNRnjKL"
      },
      "execution_count": null,
      "outputs": []
    },
    {
      "cell_type": "code",
      "source": [
        "# Ejercicio 11: IMC\n",
        "\n",
        "imc = lambda p, h: p / h**2\n",
        "categoria = lambda i: [\"Bajo peso\", \"Normal\", \"Sobrepeso\", \"Obesidad\"][(i >= 18.5) + (i >= 25) + (i >= 30)]\n",
        "valor_imc = imc(70, 1.75)\n",
        "print(f\"Ejercicio 10: IMC -> {valor_imc:.2f}, Categoría -> {categoria(valor_imc)}\")"
      ],
      "metadata": {
        "id": "Km_LXVprnkbe"
      },
      "execution_count": null,
      "outputs": []
    },
    {
      "cell_type": "code",
      "source": [
        "# Ejercicio 12: Calculadora\n",
        "\n",
        "cal = lambda a, op, b: {\"+\" : a + b, \"-\" : a - b, \"*\" : a * b, \"/\" : a / b if b else \"Error\"}[op]\n",
        "print(f\"Ejercicio 11: 8 / 2 -> {cal(8, '/', 2)}\")"
      ],
      "metadata": {
        "id": "4sk63adgnlR0"
      },
      "execution_count": null,
      "outputs": []
    },
    {
      "cell_type": "code",
      "source": [
        "# Ejercicio 13: Calificación numérica a letra\n",
        "\n",
        "calificacion = lambda n: [\"F\", \"D\", \"C\", \"B\", \"A\"][(n >= 60) + (n >= 70) + (n >= 80) + (n >= 90)]\n",
        "print(f\"Ejercicio 12: Nota 85 -> {calificacion(85)}\")"
      ],
      "metadata": {
        "id": "7bTLw0B9nmJQ"
      },
      "execution_count": null,
      "outputs": []
    },
    {
      "cell_type": "code",
      "source": [
        "# Ejercicio 14: Día de la semana\n",
        "\n",
        "dia_semana = lambda n: [\"Error\", \"Lunes\", \"Martes\", \"Miércoles\", \"Jueves\", \"Viernes\", \"Sábado\", \"Domingo\"][n if 1 <= n <= 7 else 0]\n",
        "print(f\"Ejercicio 13: Día 3 -> {dia_semana(3)}\")"
      ],
      "metadata": {
        "id": "56EIBKpmnm3q"
      },
      "execution_count": null,
      "outputs": []
    },
    {
      "cell_type": "code",
      "source": [
        "# Ejercicio 15: Validar y clasificar un triángulo\n",
        "\n",
        "triangulo = lambda a, b, c: (\n",
        "    \"No es un triángulo\" if not (a + b > c and a + c > b and b + c > a) else\n",
        "    \"Triángulo equilátero\" if a == b == c else\n",
        "    \"Triángulo isósceles\" if a == b or a == c or b == c else\n",
        "    \"Triángulo escaleno\"\n",
        ")\n",
        "# Solicitar entrada al usuario\n",
        "lado1 = float(input(\"Ingrese la longitud del primer lado: \"))\n",
        "lado2 = float(input(\"Ingrese la longitud del segundo lado: \"))\n",
        "lado3 = float(input(\"Ingrese la longitud del tercer lado: \"))\n",
        "\n",
        "# Mostrar el resultado\n",
        "print(f\"\\nResultado: {triangulo(lado1, lado2, lado3)}\")"
      ],
      "metadata": {
        "id": "HhqFpxlfnoAI"
      },
      "execution_count": null,
      "outputs": []
    },
    {
      "cell_type": "code",
      "source": [
        "# Ejercicio 16: Tabla de multiplicar\n",
        "\n",
        "tabla_multiplicar = lambda n: [f\"{n} x {i} = {n * i}\" for i in range(1, 11)]\n",
        "\n",
        "# Solicitar entrada al usuario\n",
        "numero = int(input(\"Ingrese un número para ver su tabla de multiplicar: \"))\n",
        "\n",
        "# Mostrar el resultado\n",
        "print(f\"\\nTabla de multiplicar del {numero}:\")\n",
        "print(\"\\n\".join(tabla_multiplicar(numero)))"
      ],
      "metadata": {
        "id": "rne7-5NGno6L"
      },
      "execution_count": null,
      "outputs": []
    },
    {
      "cell_type": "code",
      "source": [
        "# Ejercicio 17: Suma de dos números\n",
        "\n",
        "sumar = lambda a, b: a + b\n",
        "\n",
        "# Solicitar entrada al usuario\n",
        "num1 = float(input(\"Ingrese el primer número: \"))\n",
        "num2 = float(input(\"Ingrese el segundo número: \"))\n",
        "# Mostrar el resultado\n",
        "print(f\"\\nLa suma de {num1} y {num2} es: {sumar(num1, num2)}\")"
      ],
      "metadata": {
        "id": "IA1qc9mEnsXa"
      },
      "execution_count": null,
      "outputs": []
    },
    {
      "cell_type": "code",
      "execution_count": null,
      "metadata": {
        "id": "3wEO6sO3ma22"
      },
      "outputs": [],
      "source": [
        "# Ejercicio 18: Factorial\n",
        "\n",
        "factorial = lambda n: reduce(lambda x, y: x * y, range(1, n + 1), 1)\n",
        "print(f\"Ejercicio 14: Factorial de 5 -> {factorial(5)}\")"
      ]
    }
  ]
}